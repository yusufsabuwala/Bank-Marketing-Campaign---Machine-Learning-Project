{
  "nbformat": 4,
  "nbformat_minor": 0,
  "metadata": {
    "colab": {
      "name": "project-working-GYP1.ipynb",
      "provenance": [],
      "collapsed_sections": [],
      "toc_visible": true
    },
    "kernelspec": {
      "display_name": "Python 3",
      "language": "python",
      "name": "python3"
    },
    "language_info": {
      "codemirror_mode": {
        "name": "ipython",
        "version": 3
      },
      "file_extension": ".py",
      "mimetype": "text/x-python",
      "name": "python",
      "nbconvert_exporter": "python",
      "pygments_lexer": "ipython3",
      "version": "3.7.4"
    }
  },
  "cells": [
    {
      "cell_type": "markdown",
      "metadata": {
        "colab_type": "text",
        "id": "yuC1yRGBtPSW"
      },
      "source": [
        "# CS-675 Project Team 1"
      ]
    },
    {
      "cell_type": "markdown",
      "metadata": {
        "colab_type": "text",
        "id": "hE04wrkWtPSW"
      },
      "source": [
        "The objective of this project is to create a model for successful telephone based marketing campaigns in the fincial services industry based on data collected over a 4 year period by a Portuguese bank. The data was collected on in-bound and out-bound phone calls made to clients in an attempt to get them to register for a term account with the bank. Initially 150 variables were monitored, and subsequent analysis was performed to reduce that to a set of 21 features for use in model creation. The specific features included both client specific ones (e.g., age, occupation, marital status, etc.) as well as economic indicators such as the employment variation and interest rates, consumer price and confidence index, etc. A complete list is available in the included file \"bank-additional-names.txt\".\n",
        "\n",
        "The goal was to predict if a client will subscribe to a term deposit or not. So when this model is deployed on the unseen data, it predicts with atmost 90% accuracy.\n",
        "This information can be very helpful for the marketing team, as they can now focus more on the clients that are the most likely to subscribe and those who aren't.\n",
        "\n",
        "The approach taken in this notebook is evaluate the data using two classifiers; a Random Forest and a Neural Network. Later more algorithms were added to see if we can increase the accurary. The choices were made based on two criteria:\n",
        "\n",
        "1. see which classifier has a higher model score.\n",
        "2. given our objective of marketing campaign creation, to contrast the usefulness of a classifier with \"interprettable results\" such the Random Forest with a \"black box\" one such as a Neural Network in which the features are not directly returned.\n",
        "\n",
        "The actual cell execution proceeds as follows:\n",
        "\n",
        "1. the data is read into a pandas data frame\n",
        "2. preprocess (using binning) on a feature (pdays) that represents the number of days that elapsed between contacting the client for the current campaign and any previuos campaigns. This was done because the value of 999 was used to indicate 'unknown', and the values for known day counts ranged between 0 and 40.\n",
        "3. categorical variables are one-hot encoded\n",
        "4. one feature from the dataset (the call duration) was dropped because it would not be possible to know prior how long a call might last and therefore would not be useful in an actual campaign.\n",
        "Also if the value is 0, the output will always be no. So it acts like a bias hence not included.\n",
        "\n",
        "The data was split into 80%-20% training/test data sets and the appropriate class was fit on the training data and run on the test data. In the case of the Random Forest, the results output include the classifier score, the ranking of the features and a plot of the top 20. In the case of the Neural Network, the score and the classifier coefficients are printed."
      ]
    },
    {
      "cell_type": "code",
      "metadata": {
        "id": "dEMk0u-BMruc",
        "colab_type": "code",
        "colab": {}
      },
      "source": [
        "#!pip install xgboost\n",
        "#!pip install scikit-plot"
      ],
      "execution_count": 0,
      "outputs": []
    },
    {
      "cell_type": "code",
      "metadata": {
        "colab_type": "code",
        "id": "oKBkcZg18awa",
        "outputId": "01c4e16b-2898-4690-9e0b-e38f6629b57f",
        "colab": {
          "base_uri": "https://localhost:8080/",
          "height": 122
        }
      },
      "source": [
        "from google.colab import drive\n",
        "drive.mount('/content/drive')"
      ],
      "execution_count": 0,
      "outputs": [
        {
          "output_type": "stream",
          "text": [
            "Go to this URL in a browser: https://accounts.google.com/o/oauth2/auth?client_id=947318989803-6bn6qk8qdgf4n4g3pfee6491hc0brc4i.apps.googleusercontent.com&redirect_uri=urn%3aietf%3awg%3aoauth%3a2.0%3aoob&response_type=code&scope=email%20https%3a%2f%2fwww.googleapis.com%2fauth%2fdocs.test%20https%3a%2f%2fwww.googleapis.com%2fauth%2fdrive%20https%3a%2f%2fwww.googleapis.com%2fauth%2fdrive.photos.readonly%20https%3a%2f%2fwww.googleapis.com%2fauth%2fpeopleapi.readonly\n",
            "\n",
            "Enter your authorization code:\n",
            "··········\n",
            "Mounted at /content/drive\n"
          ],
          "name": "stdout"
        }
      ]
    },
    {
      "cell_type": "code",
      "metadata": {
        "colab_type": "code",
        "id": "Z8YTpXCe8UZo",
        "outputId": "488b9903-7631-4b93-eaa6-eca223aa8b22",
        "colab": {
          "base_uri": "https://localhost:8080/",
          "height": 224
        }
      },
      "source": [
        "import numpy as np\n",
        "import pandas as pd\n",
        "import matplotlib.pyplot as plt\n",
        "from sklearn.linear_model import LogisticRegression\n",
        "from sklearn.preprocessing import StandardScaler, OneHotEncoder, LabelEncoder\n",
        "from sklearn.ensemble import RandomForestClassifier, AdaBoostClassifier\n",
        "from sklearn.model_selection import train_test_split, GridSearchCV\n",
        "from sklearn.metrics import accuracy_score\n",
        "\n",
        "from sklearn.svm import SVC\n",
        "plt.rcParams[\"figure.figsize\"] = (10,10)\n",
        "\n",
        "np.random.seed(0)\n",
        "\n",
        "df_bank = pd.read_csv('/content/drive/My Drive/Group 1/bank-additional-full.csv', sep=';')\n",
        "#df_bank = pd.read_csv('bank-additional-full.csv', sep=';')\n",
        "\n",
        "df_bank.head()"
      ],
      "execution_count": 0,
      "outputs": [
        {
          "output_type": "execute_result",
          "data": {
            "text/html": [
              "<div>\n",
              "<style scoped>\n",
              "    .dataframe tbody tr th:only-of-type {\n",
              "        vertical-align: middle;\n",
              "    }\n",
              "\n",
              "    .dataframe tbody tr th {\n",
              "        vertical-align: top;\n",
              "    }\n",
              "\n",
              "    .dataframe thead th {\n",
              "        text-align: right;\n",
              "    }\n",
              "</style>\n",
              "<table border=\"1\" class=\"dataframe\">\n",
              "  <thead>\n",
              "    <tr style=\"text-align: right;\">\n",
              "      <th></th>\n",
              "      <th>age</th>\n",
              "      <th>job</th>\n",
              "      <th>marital</th>\n",
              "      <th>education</th>\n",
              "      <th>default</th>\n",
              "      <th>housing</th>\n",
              "      <th>loan</th>\n",
              "      <th>contact</th>\n",
              "      <th>month</th>\n",
              "      <th>day_of_week</th>\n",
              "      <th>duration</th>\n",
              "      <th>campaign</th>\n",
              "      <th>pdays</th>\n",
              "      <th>previous</th>\n",
              "      <th>poutcome</th>\n",
              "      <th>emp.var.rate</th>\n",
              "      <th>cons.price.idx</th>\n",
              "      <th>cons.conf.idx</th>\n",
              "      <th>euribor3m</th>\n",
              "      <th>nr.employed</th>\n",
              "      <th>y</th>\n",
              "    </tr>\n",
              "  </thead>\n",
              "  <tbody>\n",
              "    <tr>\n",
              "      <th>0</th>\n",
              "      <td>56</td>\n",
              "      <td>housemaid</td>\n",
              "      <td>married</td>\n",
              "      <td>basic.4y</td>\n",
              "      <td>no</td>\n",
              "      <td>no</td>\n",
              "      <td>no</td>\n",
              "      <td>telephone</td>\n",
              "      <td>may</td>\n",
              "      <td>mon</td>\n",
              "      <td>261</td>\n",
              "      <td>1</td>\n",
              "      <td>999</td>\n",
              "      <td>0</td>\n",
              "      <td>nonexistent</td>\n",
              "      <td>1.1</td>\n",
              "      <td>93.994</td>\n",
              "      <td>-36.4</td>\n",
              "      <td>4.857</td>\n",
              "      <td>5191.0</td>\n",
              "      <td>no</td>\n",
              "    </tr>\n",
              "    <tr>\n",
              "      <th>1</th>\n",
              "      <td>57</td>\n",
              "      <td>services</td>\n",
              "      <td>married</td>\n",
              "      <td>high.school</td>\n",
              "      <td>unknown</td>\n",
              "      <td>no</td>\n",
              "      <td>no</td>\n",
              "      <td>telephone</td>\n",
              "      <td>may</td>\n",
              "      <td>mon</td>\n",
              "      <td>149</td>\n",
              "      <td>1</td>\n",
              "      <td>999</td>\n",
              "      <td>0</td>\n",
              "      <td>nonexistent</td>\n",
              "      <td>1.1</td>\n",
              "      <td>93.994</td>\n",
              "      <td>-36.4</td>\n",
              "      <td>4.857</td>\n",
              "      <td>5191.0</td>\n",
              "      <td>no</td>\n",
              "    </tr>\n",
              "    <tr>\n",
              "      <th>2</th>\n",
              "      <td>37</td>\n",
              "      <td>services</td>\n",
              "      <td>married</td>\n",
              "      <td>high.school</td>\n",
              "      <td>no</td>\n",
              "      <td>yes</td>\n",
              "      <td>no</td>\n",
              "      <td>telephone</td>\n",
              "      <td>may</td>\n",
              "      <td>mon</td>\n",
              "      <td>226</td>\n",
              "      <td>1</td>\n",
              "      <td>999</td>\n",
              "      <td>0</td>\n",
              "      <td>nonexistent</td>\n",
              "      <td>1.1</td>\n",
              "      <td>93.994</td>\n",
              "      <td>-36.4</td>\n",
              "      <td>4.857</td>\n",
              "      <td>5191.0</td>\n",
              "      <td>no</td>\n",
              "    </tr>\n",
              "    <tr>\n",
              "      <th>3</th>\n",
              "      <td>40</td>\n",
              "      <td>admin.</td>\n",
              "      <td>married</td>\n",
              "      <td>basic.6y</td>\n",
              "      <td>no</td>\n",
              "      <td>no</td>\n",
              "      <td>no</td>\n",
              "      <td>telephone</td>\n",
              "      <td>may</td>\n",
              "      <td>mon</td>\n",
              "      <td>151</td>\n",
              "      <td>1</td>\n",
              "      <td>999</td>\n",
              "      <td>0</td>\n",
              "      <td>nonexistent</td>\n",
              "      <td>1.1</td>\n",
              "      <td>93.994</td>\n",
              "      <td>-36.4</td>\n",
              "      <td>4.857</td>\n",
              "      <td>5191.0</td>\n",
              "      <td>no</td>\n",
              "    </tr>\n",
              "    <tr>\n",
              "      <th>4</th>\n",
              "      <td>56</td>\n",
              "      <td>services</td>\n",
              "      <td>married</td>\n",
              "      <td>high.school</td>\n",
              "      <td>no</td>\n",
              "      <td>no</td>\n",
              "      <td>yes</td>\n",
              "      <td>telephone</td>\n",
              "      <td>may</td>\n",
              "      <td>mon</td>\n",
              "      <td>307</td>\n",
              "      <td>1</td>\n",
              "      <td>999</td>\n",
              "      <td>0</td>\n",
              "      <td>nonexistent</td>\n",
              "      <td>1.1</td>\n",
              "      <td>93.994</td>\n",
              "      <td>-36.4</td>\n",
              "      <td>4.857</td>\n",
              "      <td>5191.0</td>\n",
              "      <td>no</td>\n",
              "    </tr>\n",
              "  </tbody>\n",
              "</table>\n",
              "</div>"
            ],
            "text/plain": [
              "   age        job  marital  ... euribor3m nr.employed   y\n",
              "0   56  housemaid  married  ...     4.857      5191.0  no\n",
              "1   57   services  married  ...     4.857      5191.0  no\n",
              "2   37   services  married  ...     4.857      5191.0  no\n",
              "3   40     admin.  married  ...     4.857      5191.0  no\n",
              "4   56   services  married  ...     4.857      5191.0  no\n",
              "\n",
              "[5 rows x 21 columns]"
            ]
          },
          "metadata": {
            "tags": []
          },
          "execution_count": 6
        }
      ]
    },
    {
      "cell_type": "code",
      "metadata": {
        "colab_type": "code",
        "id": "Dk_yF55a_eF4",
        "outputId": "da6b5955-c42d-4ab5-c9f3-948419af4653",
        "colab": {
          "base_uri": "https://localhost:8080/",
          "height": 34
        }
      },
      "source": [
        "df_bank.shape"
      ],
      "execution_count": 0,
      "outputs": [
        {
          "output_type": "execute_result",
          "data": {
            "text/plain": [
              "(41188, 21)"
            ]
          },
          "metadata": {
            "tags": []
          },
          "execution_count": 3
        }
      ]
    },
    {
      "cell_type": "code",
      "metadata": {
        "id": "habbafjBMru8",
        "colab_type": "code",
        "colab": {}
      },
      "source": [
        "# Bin values of feature 'pday' given the wide spread in the value (999) for unknown contact days\n",
        "df_bank['pdays_binned'] = pd.cut(x=df_bank['pdays'], bins=[-1,5.1,10.1,20.1,30.1,1000], labels=['Less than 5','5-10', '10-20', '20-30', 'unknown'])\n",
        "\n",
        "# Drop unneeded columns\n",
        "X = df_bank.drop(columns=['duration','pdays','y'])\n",
        "\n",
        "# Use one-hot encoding for categoricals\n",
        "X = pd.get_dummies(X)\n",
        "y = df_bank['y']\n",
        "\n",
        "# Split data into train and test sets\n",
        "X_train, X_test, y_train, y_test = train_test_split(X, y, test_size=0.3)\n",
        "\n"
      ],
      "execution_count": 0,
      "outputs": []
    },
    {
      "cell_type": "code",
      "metadata": {
        "id": "8IQEUlswP7N8",
        "colab_type": "code",
        "colab": {}
      },
      "source": [
        "# standardizing the data\n",
        "stdsc = StandardScaler()\n",
        "X_train_std = stdsc.fit_transform(X_train)\n",
        "X_test_std = stdsc.transform(X_test)"
      ],
      "execution_count": 0,
      "outputs": []
    },
    {
      "cell_type": "markdown",
      "metadata": {
        "colab_type": "text",
        "id": "P7RIOTFLtPSW"
      },
      "source": [
        "### Random Forest Classifier"
      ]
    },
    {
      "cell_type": "code",
      "metadata": {
        "colab_type": "code",
        "id": "rK4g0T0DtPSW",
        "outputId": "7d175d04-cde2-4c0d-ee4d-9b2685073b14",
        "scrolled": false,
        "colab": {
          "base_uri": "https://localhost:8080/",
          "height": 1000
        }
      },
      "source": [
        "#### Run Random Forest classifier\n",
        "\n",
        "# Instantiate classifier and run fit on training set\n",
        "clf = RandomForestClassifier(n_estimators = 500, criterion='entropy', random_state=1)\n",
        "clf.fit(X_train_std, y_train)\n",
        "\n",
        "# Display results\n",
        "print(\"model score: %.3f\\n\" % clf.score(X_test_std, y_test))\n",
        "\n",
        "feat_labels = X_test.columns[:]\n",
        "importances = clf.feature_importances_\n",
        "\n",
        "indices = np.argsort(importances)[::-1]\n",
        "\n",
        "for f in range(X_train.shape[1]):\n",
        "    print(\"%02d) %-*s %f\" % (f + 1, 30, \n",
        "                            feat_labels[indices[f]], \n",
        "                            importances[indices[f]]))\n",
        "\n",
        "\n",
        "plt.title('Feature Importance')\n",
        "plt.bar(range(20), importances[indices[:20]],\n",
        "        align='center')\n",
        "\n",
        "plt.xticks(range(20), feat_labels[indices[:20]], rotation=90)\n",
        "plt.xlim([-1, 20])\n",
        "plt.tight_layout()\n",
        "#plt.savefig('images/04_09.png', dpi=300)\n",
        "plt.show()\n"
      ],
      "execution_count": 0,
      "outputs": [
        {
          "output_type": "stream",
          "text": [
            "model score: 0.894\n",
            "\n",
            "01) age                            0.149693\n",
            "02) euribor3m                      0.118319\n",
            "03) campaign                       0.079613\n",
            "04) nr.employed                    0.047774\n",
            "05) emp.var.rate                   0.033101\n",
            "06) cons.conf.idx                  0.025081\n",
            "07) cons.price.idx                 0.022834\n",
            "08) housing_yes                    0.020620\n",
            "09) housing_no                     0.020521\n",
            "10) pdays_binned_unknown           0.019383\n",
            "11) job_admin.                     0.018368\n",
            "12) marital_married                0.018177\n",
            "13) education_university.degree    0.017430\n",
            "14) education_high.school          0.017411\n",
            "15) marital_single                 0.016490\n",
            "16) day_of_week_wed                0.015522\n",
            "17) day_of_week_thu                0.015451\n",
            "18) day_of_week_mon                0.015340\n",
            "19) poutcome_success               0.015214\n",
            "20) day_of_week_tue                0.015122\n",
            "21) day_of_week_fri                0.014795\n",
            "22) job_technician                 0.014488\n",
            "23) loan_no                        0.014217\n",
            "24) loan_yes                       0.013859\n",
            "25) job_blue-collar                0.013220\n",
            "26) education_basic.9y             0.012747\n",
            "27) education_professional.course  0.012254\n",
            "28) previous                       0.011740\n",
            "29) marital_divorced               0.011173\n",
            "30) job_services                   0.010195\n",
            "31) job_management                 0.009791\n",
            "32) default_no                     0.009488\n",
            "33) default_unknown                0.009461\n",
            "34) education_basic.4y             0.009408\n",
            "35) contact_telephone              0.008725\n",
            "36) contact_cellular               0.008376\n",
            "37) education_basic.6y             0.007153\n",
            "38) education_unknown              0.007042\n",
            "39) poutcome_nonexistent           0.006978\n",
            "40) job_retired                    0.006817\n",
            "41) poutcome_failure               0.006813\n",
            "42) job_entrepreneur               0.006396\n",
            "43) pdays_binned_5-10              0.006318\n",
            "44) job_self-employed              0.006153\n",
            "45) month_may                      0.005905\n",
            "46) job_unemployed                 0.005266\n",
            "47) job_student                    0.005116\n",
            "48) month_oct                      0.005047\n",
            "49) pdays_binned_Less than 5       0.004912\n",
            "50) job_housemaid                  0.004670\n",
            "51) month_mar                      0.003673\n",
            "52) month_apr                      0.003166\n",
            "53) month_jun                      0.003000\n",
            "54) month_jul                      0.002972\n",
            "55) month_aug                      0.002874\n",
            "56) housing_unknown                0.002435\n",
            "57) loan_unknown                   0.002369\n",
            "58) month_nov                      0.002288\n",
            "59) job_unknown                    0.002136\n",
            "60) month_sep                      0.001964\n",
            "61) pdays_binned_10-20             0.001165\n",
            "62) marital_unknown                0.000912\n",
            "63) month_dec                      0.000764\n",
            "64) education_illiterate           0.000192\n",
            "65) pdays_binned_20-30             0.000104\n",
            "66) default_yes                    0.000000\n"
          ],
          "name": "stdout"
        },
        {
          "output_type": "display_data",
          "data": {
            "image/png": "[encoded data removed]",
            "text/plain": [
              "<Figure size 720x720 with 1 Axes>"
            ]
          },
          "metadata": {
            "tags": [],
            "needs_background": "light"
          }
        }
      ]
    },
    {
      "cell_type": "markdown",
      "metadata": {
        "colab_type": "text",
        "id": "MXnwSZ8itPSW"
      },
      "source": [
        "### Neural Network Classifier"
      ]
    },
    {
      "cell_type": "code",
      "metadata": {
        "colab_type": "code",
        "id": "llzo1eugtPSj",
        "outputId": "bc4a15f6-c8dc-4f20-81af-bb6eddce8e13",
        "colab": {}
      },
      "source": [
        "### Run Neural Network classifier\n",
        "\n",
        "from sklearn.neural_network import MLPClassifier\n",
        "\n",
        "# Instantiate classifier and run fit on training set\n",
        "nn = MLPClassifier(hidden_layer_sizes=(2,6,2), random_state=1)\n",
        "\n",
        "nn.fit(X_train_std, y_train)\n",
        "\n",
        "# Display results\n",
        "print(\"model score: %.3f\\n\" % nn.score(X_test_std, y_test))\n",
        "print(nn.coefs_[0][0])\n",
        "#print(clf.coefs_[1][0])\n"
      ],
      "execution_count": 0,
      "outputs": [
        {
          "output_type": "stream",
          "text": [
            "model score: 0.899\n",
            "\n",
            "[-0.27963399 -0.04817562]\n"
          ],
          "name": "stdout"
        }
      ]
    },
    {
      "cell_type": "markdown",
      "metadata": {
        "id": "NEYECC9_Mrva",
        "colab_type": "text"
      },
      "source": [
        "### Logistic Regression Classifier"
      ]
    },
    {
      "cell_type": "code",
      "metadata": {
        "colab_type": "code",
        "id": "2MP9SHOxBAIP",
        "outputId": "1cccc708-f6b5-4d48-e5a6-999651849c38",
        "colab": {
          "base_uri": "https://localhost:8080/",
          "height": 34
        }
      },
      "source": [
        "# Training a LogisticRegression Model\n",
        "\n",
        "LR = LogisticRegression()\n",
        "LR.fit(X_train_std, y_train)\n",
        "\n",
        "LR_Predict = LR.predict(X_test_std)\n",
        "\n",
        "LR_acc = round(accuracy_score(y_test, LR_Predict),2)\n",
        "\n",
        "LR_final = LR_acc*100\n",
        "print(LR_final)"
      ],
      "execution_count": 0,
      "outputs": [
        {
          "output_type": "stream",
          "text": [
            "90.0\n"
          ],
          "name": "stdout"
        }
      ]
    },
    {
      "cell_type": "markdown",
      "metadata": {
        "id": "-K8p9yGkMrvr",
        "colab_type": "text"
      },
      "source": [
        "### XGBoost Classifier"
      ]
    },
    {
      "cell_type": "code",
      "metadata": {
        "colab_type": "code",
        "id": "q3jfglF8FZTA",
        "outputId": "c54cb534-ac97-4317-b49e-147af3b77732",
        "colab": {
          "base_uri": "https://localhost:8080/",
          "height": 231
        }
      },
      "source": [
        "# Training a XGboost classifier\n",
        "# More on this can be found here : https://towardsdatascience.com/a-beginners-guide-to-xgboost-87f5d4c30ed7\n",
        "from xgboost import XGBClassifier\n",
        "xgb = XGBClassifier(learning_rate= 0.03, booster ='gbtree')\n",
        "xgb.fit(X_train_std, y_train)\n",
        "\n",
        "xgbPre = xgb.predict(X_test_std)\n",
        "\n",
        "xgb_acc = round(accuracy_score(y_test, xgbPre),2)\n",
        "\n",
        "\n",
        "print(\"Accuracy :\", xgb_acc*100)\n"
      ],
      "execution_count": 0,
      "outputs": [
        {
          "output_type": "error",
          "ename": "NameError",
          "evalue": "ignored",
          "traceback": [
            "\u001b[0;31m---------------------------------------------------------------------------\u001b[0m",
            "\u001b[0;31mNameError\u001b[0m                                 Traceback (most recent call last)",
            "\u001b[0;32m<ipython-input-1-2003079d506a>\u001b[0m in \u001b[0;36m<module>\u001b[0;34m()\u001b[0m\n\u001b[1;32m      1\u001b[0m \u001b[0;32mfrom\u001b[0m \u001b[0mxgboost\u001b[0m \u001b[0;32mimport\u001b[0m \u001b[0mXGBClassifier\u001b[0m\u001b[0;34m\u001b[0m\u001b[0;34m\u001b[0m\u001b[0m\n\u001b[1;32m      2\u001b[0m \u001b[0mxgb\u001b[0m \u001b[0;34m=\u001b[0m \u001b[0mXGBClassifier\u001b[0m\u001b[0;34m(\u001b[0m\u001b[0mlearning_rate\u001b[0m\u001b[0;34m=\u001b[0m \u001b[0;36m0.03\u001b[0m\u001b[0;34m,\u001b[0m \u001b[0mbooster\u001b[0m \u001b[0;34m=\u001b[0m\u001b[0;34m'gbtree'\u001b[0m\u001b[0;34m)\u001b[0m\u001b[0;34m\u001b[0m\u001b[0;34m\u001b[0m\u001b[0m\n\u001b[0;32m----> 3\u001b[0;31m \u001b[0mxgb\u001b[0m\u001b[0;34m.\u001b[0m\u001b[0mfit\u001b[0m\u001b[0;34m(\u001b[0m\u001b[0mX_train_std\u001b[0m\u001b[0;34m,\u001b[0m \u001b[0my_train\u001b[0m\u001b[0;34m)\u001b[0m\u001b[0;34m\u001b[0m\u001b[0;34m\u001b[0m\u001b[0m\n\u001b[0m\u001b[1;32m      4\u001b[0m \u001b[0;34m\u001b[0m\u001b[0m\n\u001b[1;32m      5\u001b[0m \u001b[0mxgbPre\u001b[0m \u001b[0;34m=\u001b[0m \u001b[0mxgb\u001b[0m\u001b[0;34m.\u001b[0m\u001b[0mpredict\u001b[0m\u001b[0;34m(\u001b[0m\u001b[0mX_test_std\u001b[0m\u001b[0;34m)\u001b[0m\u001b[0;34m\u001b[0m\u001b[0;34m\u001b[0m\u001b[0m\n",
            "\u001b[0;31mNameError\u001b[0m: name 'X_train_std' is not defined"
          ]
        }
      ]
    },
    {
      "cell_type": "markdown",
      "metadata": {
        "id": "fwYi3nupMrv6",
        "colab_type": "text"
      },
      "source": [
        "### SVM Classifier"
      ]
    },
    {
      "cell_type": "code",
      "metadata": {
        "id": "W5JvhBPzMrv7",
        "colab_type": "code",
        "outputId": "447479c5-df18-4984-cfde-e1ed4a5cfd4b",
        "colab": {}
      },
      "source": [
        "#expect higher runtime (approx 10 minutes)\n",
        "svm_clf = SVC(probability=True, gamma='auto')\n",
        "svm_clf.fit(X_train, y_train)\n",
        "\n",
        "print (\"Accuracy : \", round(svm_clf.score(X_test, y_test)*100,2))"
      ],
      "execution_count": 0,
      "outputs": [
        {
          "output_type": "error",
          "ename": "NameError",
          "evalue": "name 'SVC' is not defined",
          "traceback": [
            "\u001b[1;31m---------------------------------------------------------------------------\u001b[0m",
            "\u001b[1;31mNameError\u001b[0m                                 Traceback (most recent call last)",
            "\u001b[1;32m<ipython-input-1-651b9acfbba5>\u001b[0m in \u001b[0;36m<module>\u001b[1;34m\u001b[0m\n\u001b[0;32m      1\u001b[0m \u001b[1;31m#expect higher runtime (approx 10 minutes)\u001b[0m\u001b[1;33m\u001b[0m\u001b[1;33m\u001b[0m\u001b[1;33m\u001b[0m\u001b[0m\n\u001b[1;32m----> 2\u001b[1;33m \u001b[0msvm_clf\u001b[0m \u001b[1;33m=\u001b[0m \u001b[0mSVC\u001b[0m\u001b[1;33m(\u001b[0m\u001b[0mprobability\u001b[0m\u001b[1;33m=\u001b[0m\u001b[1;32mTrue\u001b[0m\u001b[1;33m,\u001b[0m \u001b[0mgamma\u001b[0m\u001b[1;33m=\u001b[0m\u001b[1;34m'auto'\u001b[0m\u001b[1;33m)\u001b[0m\u001b[1;33m\u001b[0m\u001b[1;33m\u001b[0m\u001b[0m\n\u001b[0m\u001b[0;32m      3\u001b[0m \u001b[0msvm_clf\u001b[0m\u001b[1;33m.\u001b[0m\u001b[0mfit\u001b[0m\u001b[1;33m(\u001b[0m\u001b[0mX_train\u001b[0m\u001b[1;33m,\u001b[0m \u001b[0my_train\u001b[0m\u001b[1;33m)\u001b[0m\u001b[1;33m\u001b[0m\u001b[1;33m\u001b[0m\u001b[0m\n\u001b[0;32m      4\u001b[0m \u001b[1;33m\u001b[0m\u001b[0m\n\u001b[0;32m      5\u001b[0m \u001b[0mprint\u001b[0m \u001b[1;33m(\u001b[0m\u001b[1;34m\"Accuracy : \"\u001b[0m\u001b[1;33m,\u001b[0m \u001b[0mround\u001b[0m\u001b[1;33m(\u001b[0m\u001b[0msvm_clf\u001b[0m\u001b[1;33m.\u001b[0m\u001b[0mscore\u001b[0m\u001b[1;33m(\u001b[0m\u001b[0mX_test\u001b[0m\u001b[1;33m,\u001b[0m \u001b[0my_test\u001b[0m\u001b[1;33m)\u001b[0m\u001b[1;33m*\u001b[0m\u001b[1;36m100\u001b[0m\u001b[1;33m,\u001b[0m\u001b[1;36m2\u001b[0m\u001b[1;33m)\u001b[0m\u001b[1;33m)\u001b[0m\u001b[1;33m\u001b[0m\u001b[1;33m\u001b[0m\u001b[0m\n",
            "\u001b[1;31mNameError\u001b[0m: name 'SVC' is not defined"
          ]
        }
      ]
    },
    {
      "cell_type": "code",
      "metadata": {
        "id": "Trg_bLiCMrv-",
        "colab_type": "code",
        "colab": {}
      },
      "source": [
        ""
      ],
      "execution_count": 0,
      "outputs": []
    }
  ]
}